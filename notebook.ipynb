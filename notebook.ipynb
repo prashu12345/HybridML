{
 "cells": [
  {
   "cell_type": "code",
   "execution_count": 1,
   "metadata": {},
   "outputs": [],
   "source": [
    "import warnings\n",
    "warnings.filterwarnings('ignore')"
   ]
  },
  {
   "cell_type": "code",
   "execution_count": 1,
   "metadata": {},
   "outputs": [
    {
     "ename": "ModuleNotFoundError",
     "evalue": "No module named 'imblearn'",
     "output_type": "error",
     "traceback": [
      "\u001b[1;31m---------------------------------------------------------------------------\u001b[0m",
      "\u001b[1;31mModuleNotFoundError\u001b[0m                       Traceback (most recent call last)",
      "\u001b[1;32m<ipython-input-1-5d9c19516059>\u001b[0m in \u001b[0;36m<module>\u001b[1;34m\u001b[0m\n\u001b[0;32m      5\u001b[0m \u001b[1;32mimport\u001b[0m \u001b[0mseaborn\u001b[0m \u001b[1;32mas\u001b[0m \u001b[0msns\u001b[0m\u001b[1;33m\u001b[0m\u001b[1;33m\u001b[0m\u001b[0m\n\u001b[0;32m      6\u001b[0m \u001b[1;32mfrom\u001b[0m \u001b[0msklearn\u001b[0m \u001b[1;32mimport\u001b[0m \u001b[0mmetrics\u001b[0m\u001b[1;33m\u001b[0m\u001b[1;33m\u001b[0m\u001b[0m\n\u001b[1;32m----> 7\u001b[1;33m \u001b[1;32mfrom\u001b[0m \u001b[0mimblearn\u001b[0m\u001b[1;33m.\u001b[0m\u001b[0mmetrics\u001b[0m \u001b[1;32mimport\u001b[0m \u001b[0mspecificity_score\u001b[0m\u001b[1;33m\u001b[0m\u001b[1;33m\u001b[0m\u001b[0m\n\u001b[0m",
      "\u001b[1;31mModuleNotFoundError\u001b[0m: No module named 'imblearn'"
     ]
    }
   ],
   "source": [
    "import numpy as np\n",
    "import pandas as pd\n",
    "import matplotlib.pyplot as plt\n",
    "%matplotlib inline\n",
    "import seaborn as sns\n",
    "from sklearn import metrics \n",
    "from imblearn.metrics import specificity_score"
   ]
  },
  {
   "cell_type": "code",
   "execution_count": null,
   "metadata": {},
   "outputs": [],
   "source": [
    "data = pd.read_csv(\"archive/phishing.csv\")\n",
    "data.head()"
   ]
  },
  {
   "cell_type": "code",
   "execution_count": null,
   "metadata": {},
   "outputs": [],
   "source": [
    "data.info()"
   ]
  },
  {
   "cell_type": "code",
   "execution_count": null,
   "metadata": {},
   "outputs": [],
   "source": [
    "data = data.drop(['Index'],axis = 1)"
   ]
  },
  {
   "cell_type": "code",
   "execution_count": null,
   "metadata": {},
   "outputs": [],
   "source": [
    "sns.countplot(x=data['class'])"
   ]
  },
  {
   "cell_type": "code",
   "execution_count": null,
   "metadata": {},
   "outputs": [],
   "source": [
    "plt.figure(figsize=(15,15))\n",
    "sns.heatmap(data.corr(), annot=True)\n",
    "plt.show()"
   ]
  },
  {
   "cell_type": "code",
   "execution_count": null,
   "metadata": {},
   "outputs": [],
   "source": [
    "X = data.drop([\"class\"],axis =1)\n",
    "y = data[\"class\"]"
   ]
  },
  {
   "cell_type": "code",
   "execution_count": null,
   "metadata": {},
   "outputs": [],
   "source": [
    "from sklearn.model_selection import train_test_split\n",
    "\n",
    "X_train, X_test, y_train, y_test = train_test_split(X, y, test_size = 0.2, random_state = 42)\n",
    "X_train.shape, y_train.shape, X_test.shape, y_test.shape"
   ]
  },
  {
   "cell_type": "code",
   "execution_count": 10,
   "metadata": {},
   "outputs": [],
   "source": [
    "ML_Model = []\n",
    "accuracy = []\n",
    "f1_score = []\n",
    "recall = []\n",
    "precision = []\n",
    "specificity = []\n",
    "\n",
    "#function to call for storing the results\n",
    "def storeResults(model, a,b,c,d,e):\n",
    "    ML_Model.append(model)\n",
    "    accuracy.append(round(a, 3))\n",
    "    f1_score.append(round(b, 3))\n",
    "    recall.append(round(c, 3))\n",
    "    precision.append(round(d, 3))\n",
    "    specificity.append(round(e,3))\n"
   ]
  },
  {
   "cell_type": "markdown",
   "metadata": {},
   "source": [
    "# Linear Regression"
   ]
  },
  {
   "cell_type": "code",
   "execution_count": 11,
   "metadata": {},
   "outputs": [],
   "source": [
    "# Linear regression model \n",
    "from sklearn.linear_model import LogisticRegression\n",
    "#from sklearn.pipeline import Pipeline\n",
    "\n",
    "# instantiate the model\n",
    "log = LogisticRegression()\n",
    "\n",
    "# fit the model \n",
    "log.fit(X_train,y_train)\n",
    "#predicting the target value from the model for the samples\n",
    "\n",
    "y_train_log = log.predict(X_train)\n",
    "y_test_log = log.predict(X_test)"
   ]
  },
  {
   "cell_type": "code",
   "execution_count": 12,
   "metadata": {},
   "outputs": [
    {
     "name": "stdout",
     "output_type": "stream",
     "text": [
      "Linear Regression : Accuracy on training Data: 0.927\n",
      "Linear Regression : Accuracy on test Data: 0.934\n",
      "\n",
      "Linear Regression : f1_score on training Data: 0.935\n",
      "Linear Regression : f1_score on test Data: 0.941\n",
      "\n",
      "Linear Regression : Recall on training Data: 0.943\n",
      "Linear Regression : Recall on test Data: 0.953\n",
      "\n",
      "Linear Regression : precision on training Data: 0.927\n",
      "Linear Regression : precision on test Data: 0.930\n",
      "\n",
      "Linear Regression : specificity on training Data: 0.906\n",
      "Linear Regression : specificity on test Data: 0.909\n"
     ]
    }
   ],
   "source": [
    "#computing the accuracy, f1_score, Recall, precision of the model performance\n",
    "\n",
    "acc_train_log = metrics.accuracy_score(y_train,y_train_log)\n",
    "acc_test_log = metrics.accuracy_score(y_test,y_test_log)\n",
    "print(\"Linear Regression : Accuracy on training Data: {:.3f}\".format(acc_train_log))\n",
    "print(\"Linear Regression : Accuracy on test Data: {:.3f}\".format(acc_test_log))\n",
    "print()\n",
    "\n",
    "f1_score_train_log = metrics.f1_score(y_train,y_train_log)\n",
    "f1_score_test_log = metrics.f1_score(y_test,y_test_log)\n",
    "print(\"Linear Regression : f1_score on training Data: {:.3f}\".format(f1_score_train_log))\n",
    "print(\"Linear Regression : f1_score on test Data: {:.3f}\".format(f1_score_test_log))\n",
    "print()\n",
    "\n",
    "recall_score_train_log = metrics.recall_score(y_train,y_train_log)\n",
    "recall_score_test_log = metrics.recall_score(y_test,y_test_log)\n",
    "print(\"Linear Regression : Recall on training Data: {:.3f}\".format(recall_score_train_log))\n",
    "print(\"Linear Regression : Recall on test Data: {:.3f}\".format(recall_score_test_log))\n",
    "print()\n",
    "\n",
    "precision_score_train_log = metrics.precision_score(y_train,y_train_log)\n",
    "precision_score_test_log = metrics.precision_score(y_test,y_test_log)\n",
    "print(\"Linear Regression : precision on training Data: {:.3f}\".format(precision_score_train_log))\n",
    "print(\"Linear Regression : precision on test Data: {:.3f}\".format(precision_score_test_log))\n",
    "print()\n",
    "\n",
    "specificity_score_train_log =  specificity_score(y_train,y_train_log)\n",
    "specificity_score_test_log = specificity_score(y_test,y_test_log)\n",
    "print(\"Linear Regression : specificity on training Data: {:.3f}\".format(specificity_score_train_log))\n",
    "print(\"Linear Regression : specificity on test Data: {:.3f}\".format(specificity_score_test_log))"
   ]
  },
  {
   "cell_type": "code",
   "execution_count": 13,
   "metadata": {},
   "outputs": [],
   "source": [
    "#storing the results. The below mentioned order of parameter passing is important.\n",
    "\n",
    "storeResults('Linear Regression',acc_test_log,f1_score_test_log,\n",
    "             recall_score_train_log,precision_score_train_log,specificity_score_test_log)"
   ]
  },
  {
   "cell_type": "markdown",
   "metadata": {},
   "source": [
    "# SVC"
   ]
  },
  {
   "cell_type": "code",
   "execution_count": 14,
   "metadata": {},
   "outputs": [],
   "source": [
    "# Support Vector Classifier model \n",
    "from sklearn.svm import SVC\n",
    "svc = SVC()\n",
    "\n",
    "# fitting the model for grid search\n",
    "svc.fit(X_train, y_train)\n",
    "#predicting the target value from the model for the samples\n",
    "y_train_svc = svc.predict(X_train)\n",
    "y_test_svc = svc.predict(X_test)"
   ]
  },
  {
   "cell_type": "code",
   "execution_count": 15,
   "metadata": {},
   "outputs": [
    {
     "name": "stdout",
     "output_type": "stream",
     "text": [
      "Support Vector Machine : Accuracy on training Data: 0.953\n",
      "Support Vector Machine : Accuracy on test Data: 0.951\n",
      "\n",
      "Support Vector Machine : f1_score on training Data: 0.958\n",
      "Support Vector Machine : f1_score on test Data: 0.957\n",
      "\n",
      "Support Vector Machine : Recall on training Data: 0.969\n",
      "Support Vector Machine : Recall on test Data: 0.973\n",
      "\n",
      "Support Vector Machine : precision on training Data: 0.947\n",
      "Support Vector Machine : precision on test Data: 0.941\n",
      "\n",
      "Support Vector Machine : specificity on training Data: 0.906\n",
      "Support Vector Machine : specificity on test Data: 0.909\n"
     ]
    }
   ],
   "source": [
    "#computing the accuracy, f1_score, Recall, precision of the model performance\n",
    "\n",
    "acc_train_svc = metrics.accuracy_score(y_train,y_train_svc)\n",
    "acc_test_svc = metrics.accuracy_score(y_test,y_test_svc)\n",
    "print(\"Support Vector Machine : Accuracy on training Data: {:.3f}\".format(acc_train_svc))\n",
    "print(\"Support Vector Machine : Accuracy on test Data: {:.3f}\".format(acc_test_svc))\n",
    "print()\n",
    "\n",
    "f1_score_train_svc = metrics.f1_score(y_train,y_train_svc)\n",
    "f1_score_test_svc = metrics.f1_score(y_test,y_test_svc)\n",
    "print(\"Support Vector Machine : f1_score on training Data: {:.3f}\".format(f1_score_train_svc))\n",
    "print(\"Support Vector Machine : f1_score on test Data: {:.3f}\".format(f1_score_test_svc))\n",
    "print()\n",
    "\n",
    "recall_score_train_svc = metrics.recall_score(y_train,y_train_svc)\n",
    "recall_score_test_svc = metrics.recall_score(y_test,y_test_svc)\n",
    "print(\"Support Vector Machine : Recall on training Data: {:.3f}\".format(recall_score_train_svc))\n",
    "print(\"Support Vector Machine : Recall on test Data: {:.3f}\".format(recall_score_test_svc))\n",
    "print()\n",
    "\n",
    "precision_score_train_svc = metrics.precision_score(y_train,y_train_svc)\n",
    "precision_score_test_svc = metrics.precision_score(y_test,y_test_svc)\n",
    "print(\"Support Vector Machine : precision on training Data: {:.3f}\".format(precision_score_train_svc))\n",
    "print(\"Support Vector Machine : precision on test Data: {:.3f}\".format(precision_score_test_svc))\n",
    "print()\n",
    "\n",
    "specificity_score_train_svc =  specificity_score(y_train,y_train_log)\n",
    "specificity_score_test_svc = specificity_score(y_test,y_test_log)\n",
    "print(\"Support Vector Machine : specificity on training Data: {:.3f}\".format(specificity_score_train_svc))\n",
    "print(\"Support Vector Machine : specificity on test Data: {:.3f}\".format(specificity_score_test_svc))"
   ]
  },
  {
   "cell_type": "code",
   "execution_count": 16,
   "metadata": {},
   "outputs": [],
   "source": [
    "#storing the results. The below mentioned order of parameter passing is important.\n",
    "\n",
    "storeResults('Support Vector Machine',acc_test_svc,f1_score_test_svc,\n",
    "             recall_score_train_svc,precision_score_train_svc,specificity_score_test_svc)"
   ]
  },
  {
   "cell_type": "markdown",
   "metadata": {},
   "source": [
    "# Naive Bayes"
   ]
  },
  {
   "cell_type": "code",
   "execution_count": 17,
   "metadata": {},
   "outputs": [
    {
     "data": {
      "text/plain": [
       "GaussianNB()"
      ]
     },
     "execution_count": 17,
     "metadata": {},
     "output_type": "execute_result"
    }
   ],
   "source": [
    "# Naive Bayes Classifier Model\n",
    "from sklearn.naive_bayes import GaussianNB\n",
    "from sklearn.pipeline import Pipeline\n",
    "\n",
    "# instantiate the model\n",
    "nb=  GaussianNB()\n",
    "\n",
    "# fit the model \n",
    "nb.fit(X_train,y_train)"
   ]
  },
  {
   "cell_type": "code",
   "execution_count": 18,
   "metadata": {},
   "outputs": [],
   "source": [
    "#predicting the target value from the model for the samples\n",
    "y_train_nb = nb.predict(X_train)\n",
    "y_test_nb = nb.predict(X_test)"
   ]
  },
  {
   "cell_type": "code",
   "execution_count": 19,
   "metadata": {},
   "outputs": [
    {
     "name": "stdout",
     "output_type": "stream",
     "text": [
      "Naive Bayes Classifier : Accuracy on training Data: 0.605\n",
      "Naive Bayes Classifier : Accuracy on test Data: 0.605\n",
      "\n",
      "Naive Bayes Classifier : f1_score on training Data: 0.451\n",
      "Naive Bayes Classifier : f1_score on test Data: 0.454\n",
      "\n",
      "Naive Bayes Classifier : Recall on training Data: 0.292\n",
      "Naive Bayes Classifier : Recall on test Data: 0.294\n",
      "\n",
      "Naive Bayes Classifier : precision on training Data: 0.997\n",
      "Naive Bayes Classifier : precision on test Data: 0.995\n",
      "\n",
      "Naive Bayes Classifier : specificity on training Data: 0.906\n",
      "Naive Bayes Classifier : specificity on test Data: 0.909\n"
     ]
    }
   ],
   "source": [
    "#computing the accuracy, f1_score, Recall, precision of the model performance\n",
    "\n",
    "acc_train_nb = metrics.accuracy_score(y_train,y_train_nb)\n",
    "acc_test_nb = metrics.accuracy_score(y_test,y_test_nb)\n",
    "print(\"Naive Bayes Classifier : Accuracy on training Data: {:.3f}\".format(acc_train_nb))\n",
    "print(\"Naive Bayes Classifier : Accuracy on test Data: {:.3f}\".format(acc_test_nb))\n",
    "print()\n",
    "\n",
    "f1_score_train_nb = metrics.f1_score(y_train,y_train_nb)\n",
    "f1_score_test_nb = metrics.f1_score(y_test,y_test_nb)\n",
    "print(\"Naive Bayes Classifier : f1_score on training Data: {:.3f}\".format(f1_score_train_nb))\n",
    "print(\"Naive Bayes Classifier : f1_score on test Data: {:.3f}\".format(f1_score_test_nb))\n",
    "print()\n",
    "\n",
    "recall_score_train_nb = metrics.recall_score(y_train,y_train_nb)\n",
    "recall_score_test_nb = metrics.recall_score(y_test,y_test_nb)\n",
    "print(\"Naive Bayes Classifier : Recall on training Data: {:.3f}\".format(recall_score_train_nb))\n",
    "print(\"Naive Bayes Classifier : Recall on test Data: {:.3f}\".format(recall_score_test_nb))\n",
    "print()\n",
    "\n",
    "precision_score_train_nb = metrics.precision_score(y_train,y_train_nb)\n",
    "precision_score_test_nb = metrics.precision_score(y_test,y_test_nb)\n",
    "print(\"Naive Bayes Classifier : precision on training Data: {:.3f}\".format(precision_score_train_nb))\n",
    "print(\"Naive Bayes Classifier : precision on test Data: {:.3f}\".format(precision_score_test_nb))\n",
    "print()\n",
    "\n",
    "specificity_score_train_nb =  specificity_score(y_train,y_train_log)\n",
    "specificity_score_test_nb = specificity_score(y_test,y_test_log)\n",
    "print(\"Naive Bayes Classifier : specificity on training Data: {:.3f}\".format(specificity_score_train_nb))\n",
    "print(\"Naive Bayes Classifier : specificity on test Data: {:.3f}\".format(specificity_score_test_nb))"
   ]
  },
  {
   "cell_type": "code",
   "execution_count": 20,
   "metadata": {},
   "outputs": [],
   "source": [
    "#storing the results. The below mentioned order of parameter passing is important.\n",
    "\n",
    "storeResults('Naive Bayes Classifier',acc_test_nb,f1_score_test_nb,\n",
    "             recall_score_train_nb,precision_score_train_nb,specificity_score_test_nb)"
   ]
  },
  {
   "cell_type": "markdown",
   "metadata": {},
   "source": [
    "# Decision Tree"
   ]
  },
  {
   "cell_type": "code",
   "execution_count": 21,
   "metadata": {},
   "outputs": [
    {
     "data": {
      "text/plain": [
       "DecisionTreeClassifier(max_depth=30)"
      ]
     },
     "execution_count": 21,
     "metadata": {},
     "output_type": "execute_result"
    }
   ],
   "source": [
    "# Decision Tree Classifier model \n",
    "from sklearn.tree import DecisionTreeClassifier\n",
    "\n",
    "# instantiate the model \n",
    "tree = DecisionTreeClassifier(max_depth=30)\n",
    "\n",
    "# fit the model \n",
    "tree.fit(X_train, y_train)"
   ]
  },
  {
   "cell_type": "code",
   "execution_count": 22,
   "metadata": {},
   "outputs": [],
   "source": [
    "#predicting the target value from the model for the samples\n",
    "\n",
    "y_train_tree = tree.predict(X_train)\n",
    "y_test_tree = tree.predict(X_test)"
   ]
  },
  {
   "cell_type": "code",
   "execution_count": 23,
   "metadata": {},
   "outputs": [
    {
     "name": "stdout",
     "output_type": "stream",
     "text": [
      "Decision Tree : Accuracy on training Data: 0.991\n",
      "Decision Tree : Accuracy on test Data: 0.958\n",
      "\n",
      "Decision Tree : f1_score on training Data: 0.992\n",
      "Decision Tree : f1_score on test Data: 0.962\n",
      "\n",
      "Decision Tree : Recall on training Data: 0.991\n",
      "Decision Tree : Recall on test Data: 0.961\n",
      "\n",
      "Decision Tree : precision on training Data: 0.993\n",
      "Decision Tree : precision on test Data: 0.963\n",
      "\n",
      "Decision Tree : specificity on training Data: 0.906\n",
      "Decision Tree : specificity on test Data: 0.909\n"
     ]
    }
   ],
   "source": [
    "#computing the accuracy, f1_score, Recall, precision of the model performance\n",
    "\n",
    "acc_train_tree = metrics.accuracy_score(y_train,y_train_tree)\n",
    "acc_test_tree = metrics.accuracy_score(y_test,y_test_tree)\n",
    "print(\"Decision Tree : Accuracy on training Data: {:.3f}\".format(acc_train_tree))\n",
    "print(\"Decision Tree : Accuracy on test Data: {:.3f}\".format(acc_test_tree))\n",
    "print()\n",
    "\n",
    "f1_score_train_tree = metrics.f1_score(y_train,y_train_tree)\n",
    "f1_score_test_tree = metrics.f1_score(y_test,y_test_tree)\n",
    "print(\"Decision Tree : f1_score on training Data: {:.3f}\".format(f1_score_train_tree))\n",
    "print(\"Decision Tree : f1_score on test Data: {:.3f}\".format(f1_score_test_tree))\n",
    "print()\n",
    "\n",
    "recall_score_train_tree = metrics.recall_score(y_train,y_train_tree)\n",
    "recall_score_test_tree = metrics.recall_score(y_test,y_test_tree)\n",
    "print(\"Decision Tree : Recall on training Data: {:.3f}\".format(recall_score_train_tree))\n",
    "print(\"Decision Tree : Recall on test Data: {:.3f}\".format(recall_score_test_tree))\n",
    "print()\n",
    "\n",
    "precision_score_train_tree = metrics.precision_score(y_train,y_train_tree)\n",
    "precision_score_test_tree = metrics.precision_score(y_test,y_test_tree)\n",
    "print(\"Decision Tree : precision on training Data: {:.3f}\".format(precision_score_train_tree))\n",
    "print(\"Decision Tree : precision on test Data: {:.3f}\".format(precision_score_test_tree))\n",
    "print()\n",
    "\n",
    "specificity_score_train_dt =  specificity_score(y_train,y_train_log)\n",
    "specificity_score_test_dt = specificity_score(y_test,y_test_log)\n",
    "print(\"Decision Tree : specificity on training Data: {:.3f}\".format(specificity_score_train_dt))\n",
    "print(\"Decision Tree : specificity on test Data: {:.3f}\".format(specificity_score_test_dt))"
   ]
  },
  {
   "cell_type": "code",
   "execution_count": 24,
   "metadata": {},
   "outputs": [],
   "source": [
    "#storing the results. The below mentioned order of parameter passing is important.\n",
    "\n",
    "storeResults('Decision Tree',acc_test_tree,f1_score_test_tree,\n",
    "             recall_score_train_tree,precision_score_train_tree,specificity_score_test_dt)"
   ]
  },
  {
   "cell_type": "markdown",
   "metadata": {},
   "source": [
    "# Random Forest"
   ]
  },
  {
   "cell_type": "code",
   "execution_count": 25,
   "metadata": {},
   "outputs": [
    {
     "data": {
      "text/plain": [
       "RandomForestClassifier(n_estimators=10)"
      ]
     },
     "execution_count": 25,
     "metadata": {},
     "output_type": "execute_result"
    }
   ],
   "source": [
    "# Random Forest Classifier Model\n",
    "from sklearn.ensemble import RandomForestClassifier\n",
    "\n",
    "# instantiate the model\n",
    "forest = RandomForestClassifier(n_estimators=10)\n",
    "\n",
    "# fit the model \n",
    "forest.fit(X_train,y_train)"
   ]
  },
  {
   "cell_type": "code",
   "execution_count": 26,
   "metadata": {},
   "outputs": [],
   "source": [
    "#predicting the target value from the model for the samples\n",
    "y_train_forest = forest.predict(X_train)\n",
    "y_test_forest = forest.predict(X_test)"
   ]
  },
  {
   "cell_type": "code",
   "execution_count": 27,
   "metadata": {},
   "outputs": [
    {
     "name": "stdout",
     "output_type": "stream",
     "text": [
      "Random Forest : Accuracy on training Data: 0.990\n",
      "Random Forest : Accuracy on test Data: 0.966\n",
      "\n",
      "Random Forest : f1_score on training Data: 0.991\n",
      "Random Forest : f1_score on test Data: 0.970\n",
      "\n",
      "Random Forest : Recall on training Data: 0.995\n",
      "Random Forest : Recall on test Data: 0.974\n",
      "\n",
      "Random Forest : precision on training Data: 0.988\n",
      "Random Forest : precision on test Data: 0.963\n",
      "\n",
      "Decision Tree : specificity on training Data: 0.906\n",
      "Decision Tree : specificity on test Data: 0.909\n"
     ]
    }
   ],
   "source": [
    "#computing the accuracy, f1_score, Recall, precision of the model performance\n",
    "\n",
    "acc_train_forest = metrics.accuracy_score(y_train,y_train_forest)\n",
    "acc_test_forest = metrics.accuracy_score(y_test,y_test_forest)\n",
    "print(\"Random Forest : Accuracy on training Data: {:.3f}\".format(acc_train_forest))\n",
    "print(\"Random Forest : Accuracy on test Data: {:.3f}\".format(acc_test_forest))\n",
    "print()\n",
    "\n",
    "f1_score_train_forest = metrics.f1_score(y_train,y_train_forest)\n",
    "f1_score_test_forest = metrics.f1_score(y_test,y_test_forest)\n",
    "print(\"Random Forest : f1_score on training Data: {:.3f}\".format(f1_score_train_forest))\n",
    "print(\"Random Forest : f1_score on test Data: {:.3f}\".format(f1_score_test_forest))\n",
    "print()\n",
    "\n",
    "recall_score_train_forest = metrics.recall_score(y_train,y_train_forest)\n",
    "recall_score_test_forest = metrics.recall_score(y_test,y_test_forest)\n",
    "print(\"Random Forest : Recall on training Data: {:.3f}\".format(recall_score_train_forest))\n",
    "print(\"Random Forest : Recall on test Data: {:.3f}\".format(recall_score_test_forest))\n",
    "print()\n",
    "\n",
    "precision_score_train_forest = metrics.precision_score(y_train,y_train_forest)\n",
    "precision_score_test_forest = metrics.precision_score(y_test,y_test_tree)\n",
    "print(\"Random Forest : precision on training Data: {:.3f}\".format(precision_score_train_forest))\n",
    "print(\"Random Forest : precision on test Data: {:.3f}\".format(precision_score_test_forest))\n",
    "print()\n",
    "\n",
    "specificity_score_train_forest =  specificity_score(y_train,y_train_log)\n",
    "specificity_score_test_forest = specificity_score(y_test,y_test_log)\n",
    "print(\"Decision Tree : specificity on training Data: {:.3f}\".format(specificity_score_train_forest))\n",
    "print(\"Decision Tree : specificity on test Data: {:.3f}\".format(specificity_score_test_forest))"
   ]
  },
  {
   "cell_type": "code",
   "execution_count": 28,
   "metadata": {},
   "outputs": [],
   "source": [
    "#storing the results. The below mentioned order of parameter passing is important.\n",
    "\n",
    "storeResults('Random Forest',acc_test_forest,f1_score_test_forest,\n",
    "             recall_score_train_forest,precision_score_train_forest,specificity_score_test_forest)"
   ]
  },
  {
   "cell_type": "markdown",
   "metadata": {},
   "source": [
    "# Gradient Boosting"
   ]
  },
  {
   "cell_type": "code",
   "execution_count": 29,
   "metadata": {},
   "outputs": [
    {
     "data": {
      "text/plain": [
       "GradientBoostingClassifier(learning_rate=0.7, max_depth=4)"
      ]
     },
     "execution_count": 29,
     "metadata": {},
     "output_type": "execute_result"
    }
   ],
   "source": [
    "# Gradient Boosting Classifier Model\n",
    "from sklearn.ensemble import GradientBoostingClassifier\n",
    "\n",
    "# instantiate the model\n",
    "gbc = GradientBoostingClassifier(max_depth=4,learning_rate=0.7)\n",
    "\n",
    "# fit the model \n",
    "gbc.fit(X_train,y_train)"
   ]
  },
  {
   "cell_type": "code",
   "execution_count": 30,
   "metadata": {},
   "outputs": [],
   "source": [
    "#predicting the target value from the model for the samples\n",
    "y_train_gbc = gbc.predict(X_train)\n",
    "y_test_gbc = gbc.predict(X_test)"
   ]
  },
  {
   "cell_type": "code",
   "execution_count": 31,
   "metadata": {},
   "outputs": [
    {
     "name": "stdout",
     "output_type": "stream",
     "text": [
      "Gradient Boosting Classifier : Accuracy on training Data: 0.989\n",
      "Gradient Boosting Classifier : Accuracy on test Data: 0.974\n",
      "\n",
      "Gradient Boosting Classifier : f1_score on training Data: 0.990\n",
      "Gradient Boosting Classifier : f1_score on test Data: 0.977\n",
      "\n",
      "Gradient Boosting Classifier : Recall on training Data: 0.994\n",
      "Gradient Boosting Classifier : Recall on test Data: 0.989\n",
      "\n",
      "Gradient Boosting Classifier : precision on training Data: 0.986\n",
      "Gradient Boosting Classifier : precision on test Data: 0.966\n",
      "\n",
      "Gradient Boosting Classifier : specificity on training Data: 0.906\n",
      "Gradient Boosting Classifier : specificity on test Data: 0.909\n"
     ]
    }
   ],
   "source": [
    "#computing the accuracy, f1_score, Recall, precision of the model performance\n",
    "\n",
    "acc_train_gbc = metrics.accuracy_score(y_train,y_train_gbc)\n",
    "acc_test_gbc = metrics.accuracy_score(y_test,y_test_gbc)\n",
    "print(\"Gradient Boosting Classifier : Accuracy on training Data: {:.3f}\".format(acc_train_gbc))\n",
    "print(\"Gradient Boosting Classifier : Accuracy on test Data: {:.3f}\".format(acc_test_gbc))\n",
    "print()\n",
    "\n",
    "f1_score_train_gbc = metrics.f1_score(y_train,y_train_gbc)\n",
    "f1_score_test_gbc = metrics.f1_score(y_test,y_test_gbc)\n",
    "print(\"Gradient Boosting Classifier : f1_score on training Data: {:.3f}\".format(f1_score_train_gbc))\n",
    "print(\"Gradient Boosting Classifier : f1_score on test Data: {:.3f}\".format(f1_score_test_gbc))\n",
    "print()\n",
    "\n",
    "recall_score_train_gbc = metrics.recall_score(y_train,y_train_gbc)\n",
    "recall_score_test_gbc =  metrics.recall_score(y_test,y_test_gbc)\n",
    "print(\"Gradient Boosting Classifier : Recall on training Data: {:.3f}\".format(recall_score_train_gbc))\n",
    "print(\"Gradient Boosting Classifier : Recall on test Data: {:.3f}\".format(recall_score_test_gbc))\n",
    "print()\n",
    "\n",
    "precision_score_train_gbc = metrics.precision_score(y_train,y_train_gbc)\n",
    "precision_score_test_gbc = metrics.precision_score(y_test,y_test_gbc)\n",
    "print(\"Gradient Boosting Classifier : precision on training Data: {:.3f}\".format(precision_score_train_gbc))\n",
    "print(\"Gradient Boosting Classifier : precision on test Data: {:.3f}\".format(precision_score_test_gbc))\n",
    "print()\n",
    "\n",
    "specificity_score_train_gbc =  specificity_score(y_train,y_train_log)\n",
    "specificity_score_test_gbc = specificity_score(y_test,y_test_log)\n",
    "print(\"Gradient Boosting Classifier : specificity on training Data: {:.3f}\".format(specificity_score_train_gbc))\n",
    "print(\"Gradient Boosting Classifier : specificity on test Data: {:.3f}\".format(specificity_score_test_gbc))"
   ]
  },
  {
   "cell_type": "code",
   "execution_count": 32,
   "metadata": {},
   "outputs": [],
   "source": [
    "#storing the results. The below mentioned order of parameter passing is important.\n",
    "\n",
    "storeResults('Gradient Boosting Classifier',acc_test_gbc,f1_score_test_gbc,\n",
    "             recall_score_train_gbc,precision_score_train_gbc,specificity_score_test_gbc)"
   ]
  },
  {
   "cell_type": "markdown",
   "metadata": {},
   "source": [
    "# Hybrid LSD (Soft)"
   ]
  },
  {
   "cell_type": "code",
   "execution_count": 33,
   "metadata": {},
   "outputs": [],
   "source": [
    "from sklearn.svm import SVC\n",
    "from sklearn.tree import DecisionTreeClassifier\n",
    "from sklearn.ensemble import VotingClassifier\n",
    "clf1 = SVC(gamma='auto',probability=True)\n",
    "clf2 = LogisticRegression()\n",
    "clf3 = DecisionTreeClassifier()\n",
    "eclf1 = VotingClassifier(estimators=[('svc', clf1), ('lr', clf2), ('dt', clf3)], voting='soft')\n",
    "eclf1.fit(X_train, y_train)\n",
    "predictions = eclf1.predict(X_test)"
   ]
  },
  {
   "cell_type": "code",
   "execution_count": 34,
   "metadata": {},
   "outputs": [],
   "source": [
    "#predicting the target value from the model for the samples\n",
    "y_train_hyd1 = eclf1.predict(X_train)\n",
    "y_test_hyd1 = eclf1.predict(X_test)"
   ]
  },
  {
   "cell_type": "code",
   "execution_count": 35,
   "metadata": {},
   "outputs": [
    {
     "name": "stdout",
     "output_type": "stream",
     "text": [
      "Hybrid LSD - SOFT : Accuracy on training Data: 0.967\n",
      "Hybrid LSD - SOFT : Accuracy on test Data: 0.958\n",
      "\n",
      "Hybrid LSD - SOFT : f1_score on training Data: 0.971\n",
      "Hybrid LSD - SOFT : f1_score on test Data: 0.963\n",
      "\n",
      "Hybrid LSD - SOFT : Recall on training Data: 0.977\n",
      "Hybrid LSD - SOFT : Recall on test Data: 0.971\n",
      "\n",
      "Hybrid LSD - SOFT : precision on training Data: 0.964\n",
      "Hybrid LSD - SOFT : precision on test Data: 0.955\n",
      "\n",
      "Hybrid LSD - SOFT : specificity on training Data: 0.906\n",
      "Hybrid LSD - SOFT : specificity on test Data: 0.909\n"
     ]
    }
   ],
   "source": [
    "#computing the accuracy, f1_score, Recall, precision of the model performance\n",
    "\n",
    "acc_train_hyd1 = metrics.accuracy_score(y_train,y_train_hyd1)\n",
    "acc_test_hyd1 = metrics.accuracy_score(y_test,y_test_hyd1)\n",
    "print(\"Hybrid LSD - SOFT : Accuracy on training Data: {:.3f}\".format(acc_train_hyd1))\n",
    "print(\"Hybrid LSD - SOFT : Accuracy on test Data: {:.3f}\".format(acc_test_hyd1))\n",
    "print()\n",
    "\n",
    "f1_score_train_hyd1 = metrics.f1_score(y_train,y_train_hyd1)\n",
    "f1_score_test_hyd1 = metrics.f1_score(y_test,y_test_hyd1)\n",
    "print(\"Hybrid LSD - SOFT : f1_score on training Data: {:.3f}\".format(f1_score_train_hyd1))\n",
    "print(\"Hybrid LSD - SOFT : f1_score on test Data: {:.3f}\".format(f1_score_test_hyd1))\n",
    "print()\n",
    "\n",
    "recall_score_train_hyd1 = metrics.recall_score(y_train,y_train_hyd1)\n",
    "recall_score_test_hyd1 =  metrics.recall_score(y_test,y_test_hyd1)\n",
    "print(\"Hybrid LSD - SOFT : Recall on training Data: {:.3f}\".format(recall_score_train_hyd1))\n",
    "print(\"Hybrid LSD - SOFT : Recall on test Data: {:.3f}\".format(recall_score_test_hyd1))\n",
    "print()\n",
    "\n",
    "precision_score_train_hyd1 = metrics.precision_score(y_train,y_train_hyd1)\n",
    "precision_score_test_hyd1 = metrics.precision_score(y_test,y_test_hyd1)\n",
    "print(\"Hybrid LSD - SOFT : precision on training Data: {:.3f}\".format(precision_score_train_hyd1))\n",
    "print(\"Hybrid LSD - SOFT : precision on test Data: {:.3f}\".format(precision_score_test_hyd1))\n",
    "print()\n",
    "\n",
    "specificity_score_train_hyd1 =  specificity_score(y_train,y_train_log)\n",
    "specificity_score_test_hyd1 = specificity_score(y_test,y_test_log)\n",
    "print(\"Hybrid LSD - SOFT : specificity on training Data: {:.3f}\".format(specificity_score_train_hyd1))\n",
    "print(\"Hybrid LSD - SOFT : specificity on test Data: {:.3f}\".format(specificity_score_test_hyd1))"
   ]
  },
  {
   "cell_type": "code",
   "execution_count": 36,
   "metadata": {},
   "outputs": [],
   "source": [
    "#storing the results. The below mentioned order of parameter passing is important.\n",
    "\n",
    "storeResults('Hybrid LSD - SOFT',acc_test_hyd1,f1_score_test_hyd1,\n",
    "             recall_score_train_hyd1,precision_score_train_hyd1,specificity_score_test_hyd1)"
   ]
  },
  {
   "cell_type": "markdown",
   "metadata": {},
   "source": [
    "# Hybrid LSD (Hard)"
   ]
  },
  {
   "cell_type": "code",
   "execution_count": 37,
   "metadata": {},
   "outputs": [
    {
     "data": {
      "text/plain": [
       "VotingClassifier(estimators=[('svc', SVC(gamma='auto', probability=True)),\n",
       "                             ('lr', LogisticRegression()),\n",
       "                             ('dt', DecisionTreeClassifier())])"
      ]
     },
     "execution_count": 37,
     "metadata": {},
     "output_type": "execute_result"
    }
   ],
   "source": [
    "from sklearn.svm import SVC\n",
    "from sklearn.tree import DecisionTreeClassifier\n",
    "from sklearn.ensemble import VotingClassifier\n",
    "clf1 = SVC(gamma='auto',probability=True)\n",
    "clf2 = LogisticRegression()\n",
    "clf3 = DecisionTreeClassifier()\n",
    "eclf2 = VotingClassifier(estimators=[('svc', clf1), ('lr', clf2), ('dt', clf3)], voting='hard')\n",
    "eclf2.fit(X_train, y_train)"
   ]
  },
  {
   "cell_type": "code",
   "execution_count": 38,
   "metadata": {},
   "outputs": [],
   "source": [
    "#predicting the target value from the model for the samples\n",
    "y_train_hyd2 = eclf2.predict(X_train)\n",
    "y_test_hyd2 = eclf2.predict(X_test)"
   ]
  },
  {
   "cell_type": "code",
   "execution_count": 39,
   "metadata": {},
   "outputs": [
    {
     "name": "stdout",
     "output_type": "stream",
     "text": [
      "Hybrid LSD - HARD : Accuracy on training Data: 0.950\n",
      "Hybrid LSD - HARD : Accuracy on test Data: 0.949\n",
      "\n",
      "Hybrid LSD - HARD : f1_score on training Data: 0.956\n",
      "Hybrid LSD - HARD : f1_score on test Data: 0.955\n",
      "\n",
      "Hybrid LSD - HARD : Recall on training Data: 0.967\n",
      "Hybrid LSD - HARD : Recall on test Data: 0.969\n",
      "\n",
      "Hybrid LSD - HARD : precision on training Data: 0.945\n",
      "Hybrid LSD - HARD : precision on test Data: 0.942\n",
      "\n",
      "Hybrid LSD - HARD : specificity on training Data: 0.906\n",
      "Hybrid LSD - HARD : specificity on test Data: 0.909\n"
     ]
    }
   ],
   "source": [
    "#computing the accuracy, f1_score, Recall, precision of the model performance\n",
    "\n",
    "acc_train_hyd2 = metrics.accuracy_score(y_train,y_train_hyd2)\n",
    "acc_test_hyd2 = metrics.accuracy_score(y_test,y_test_hyd2)\n",
    "print(\"Hybrid LSD - HARD : Accuracy on training Data: {:.3f}\".format(acc_train_hyd2))\n",
    "print(\"Hybrid LSD - HARD : Accuracy on test Data: {:.3f}\".format(acc_test_hyd2))\n",
    "print()\n",
    "\n",
    "f1_score_train_hyd2 = metrics.f1_score(y_train,y_train_hyd2)\n",
    "f1_score_test_hyd2 = metrics.f1_score(y_test,y_test_hyd2)\n",
    "print(\"Hybrid LSD - HARD : f1_score on training Data: {:.3f}\".format(f1_score_train_hyd2))\n",
    "print(\"Hybrid LSD - HARD : f1_score on test Data: {:.3f}\".format(f1_score_test_hyd2))\n",
    "print()\n",
    "\n",
    "recall_score_train_hyd2 = metrics.recall_score(y_train,y_train_hyd2)\n",
    "recall_score_test_hyd2 =  metrics.recall_score(y_test,y_test_hyd2)\n",
    "print(\"Hybrid LSD - HARD : Recall on training Data: {:.3f}\".format(recall_score_train_hyd2))\n",
    "print(\"Hybrid LSD - HARD : Recall on test Data: {:.3f}\".format(recall_score_test_hyd2))\n",
    "print()\n",
    "\n",
    "precision_score_train_hyd2 = metrics.precision_score(y_train,y_train_hyd2)\n",
    "precision_score_test_hyd2 = metrics.precision_score(y_test,y_test_hyd2)\n",
    "print(\"Hybrid LSD - HARD : precision on training Data: {:.3f}\".format(precision_score_train_hyd2))\n",
    "print(\"Hybrid LSD - HARD : precision on test Data: {:.3f}\".format(precision_score_test_hyd2))\n",
    "print()\n",
    "\n",
    "specificity_score_train_hyd2 =  specificity_score(y_train,y_train_log)\n",
    "specificity_score_test_hyd2 = specificity_score(y_test,y_test_log)\n",
    "print(\"Hybrid LSD - HARD : specificity on training Data: {:.3f}\".format(specificity_score_train_hyd2))\n",
    "print(\"Hybrid LSD - HARD : specificity on test Data: {:.3f}\".format(specificity_score_test_hyd2))"
   ]
  },
  {
   "cell_type": "code",
   "execution_count": 40,
   "metadata": {},
   "outputs": [],
   "source": [
    "#storing the results. The below mentioned order of parameter passing is important.\n",
    "\n",
    "storeResults('Hybrid LSD - HARD',acc_test_hyd2,f1_score_test_hyd2,\n",
    "             recall_score_train_hyd2,precision_score_train_hyd2,specificity_score_test_hyd2)"
   ]
  },
  {
   "cell_type": "markdown",
   "metadata": {},
   "source": [
    "# Proposed Method"
   ]
  },
  {
   "cell_type": "markdown",
   "metadata": {},
   "source": [
    "Canopy Feature"
   ]
  },
  {
   "cell_type": "code",
   "execution_count": 11,
   "metadata": {},
   "outputs": [
    {
     "data": {
      "text/html": [
       "<div>\n",
       "<style scoped>\n",
       "    .dataframe tbody tr th:only-of-type {\n",
       "        vertical-align: middle;\n",
       "    }\n",
       "\n",
       "    .dataframe tbody tr th {\n",
       "        vertical-align: top;\n",
       "    }\n",
       "\n",
       "    .dataframe thead th {\n",
       "        text-align: right;\n",
       "    }\n",
       "</style>\n",
       "<table border=\"1\" class=\"dataframe\">\n",
       "  <thead>\n",
       "    <tr style=\"text-align: right;\">\n",
       "      <th></th>\n",
       "      <th>UsingIP</th>\n",
       "      <th>LongURL</th>\n",
       "      <th>ShortURL</th>\n",
       "      <th>Symbol@</th>\n",
       "      <th>Redirecting//</th>\n",
       "      <th>PrefixSuffix-</th>\n",
       "      <th>SubDomains</th>\n",
       "      <th>HTTPS</th>\n",
       "      <th>DomainRegLen</th>\n",
       "      <th>Favicon</th>\n",
       "      <th>...</th>\n",
       "      <th>UsingPopupWindow</th>\n",
       "      <th>IframeRedirection</th>\n",
       "      <th>AgeofDomain</th>\n",
       "      <th>DNSRecording</th>\n",
       "      <th>WebsiteTraffic</th>\n",
       "      <th>PageRank</th>\n",
       "      <th>GoogleIndex</th>\n",
       "      <th>LinksPointingToPage</th>\n",
       "      <th>StatsReport</th>\n",
       "      <th>class</th>\n",
       "    </tr>\n",
       "  </thead>\n",
       "  <tbody>\n",
       "    <tr>\n",
       "      <th>0</th>\n",
       "      <td>1</td>\n",
       "      <td>1</td>\n",
       "      <td>1</td>\n",
       "      <td>1</td>\n",
       "      <td>1</td>\n",
       "      <td>-1</td>\n",
       "      <td>0</td>\n",
       "      <td>1</td>\n",
       "      <td>-1</td>\n",
       "      <td>1</td>\n",
       "      <td>...</td>\n",
       "      <td>1</td>\n",
       "      <td>1</td>\n",
       "      <td>-1</td>\n",
       "      <td>-1</td>\n",
       "      <td>0</td>\n",
       "      <td>-1</td>\n",
       "      <td>1</td>\n",
       "      <td>1</td>\n",
       "      <td>1</td>\n",
       "      <td>-1</td>\n",
       "    </tr>\n",
       "    <tr>\n",
       "      <th>1</th>\n",
       "      <td>1</td>\n",
       "      <td>0</td>\n",
       "      <td>1</td>\n",
       "      <td>1</td>\n",
       "      <td>1</td>\n",
       "      <td>-1</td>\n",
       "      <td>-1</td>\n",
       "      <td>-1</td>\n",
       "      <td>-1</td>\n",
       "      <td>1</td>\n",
       "      <td>...</td>\n",
       "      <td>1</td>\n",
       "      <td>1</td>\n",
       "      <td>1</td>\n",
       "      <td>-1</td>\n",
       "      <td>1</td>\n",
       "      <td>-1</td>\n",
       "      <td>1</td>\n",
       "      <td>0</td>\n",
       "      <td>-1</td>\n",
       "      <td>-1</td>\n",
       "    </tr>\n",
       "    <tr>\n",
       "      <th>2</th>\n",
       "      <td>1</td>\n",
       "      <td>0</td>\n",
       "      <td>1</td>\n",
       "      <td>1</td>\n",
       "      <td>1</td>\n",
       "      <td>-1</td>\n",
       "      <td>-1</td>\n",
       "      <td>-1</td>\n",
       "      <td>1</td>\n",
       "      <td>1</td>\n",
       "      <td>...</td>\n",
       "      <td>1</td>\n",
       "      <td>1</td>\n",
       "      <td>-1</td>\n",
       "      <td>-1</td>\n",
       "      <td>1</td>\n",
       "      <td>-1</td>\n",
       "      <td>1</td>\n",
       "      <td>-1</td>\n",
       "      <td>1</td>\n",
       "      <td>-1</td>\n",
       "    </tr>\n",
       "    <tr>\n",
       "      <th>3</th>\n",
       "      <td>1</td>\n",
       "      <td>0</td>\n",
       "      <td>-1</td>\n",
       "      <td>1</td>\n",
       "      <td>1</td>\n",
       "      <td>-1</td>\n",
       "      <td>1</td>\n",
       "      <td>1</td>\n",
       "      <td>-1</td>\n",
       "      <td>1</td>\n",
       "      <td>...</td>\n",
       "      <td>-1</td>\n",
       "      <td>1</td>\n",
       "      <td>-1</td>\n",
       "      <td>-1</td>\n",
       "      <td>0</td>\n",
       "      <td>-1</td>\n",
       "      <td>1</td>\n",
       "      <td>1</td>\n",
       "      <td>1</td>\n",
       "      <td>1</td>\n",
       "    </tr>\n",
       "    <tr>\n",
       "      <th>4</th>\n",
       "      <td>-1</td>\n",
       "      <td>0</td>\n",
       "      <td>-1</td>\n",
       "      <td>1</td>\n",
       "      <td>-1</td>\n",
       "      <td>-1</td>\n",
       "      <td>1</td>\n",
       "      <td>1</td>\n",
       "      <td>-1</td>\n",
       "      <td>1</td>\n",
       "      <td>...</td>\n",
       "      <td>1</td>\n",
       "      <td>1</td>\n",
       "      <td>1</td>\n",
       "      <td>1</td>\n",
       "      <td>1</td>\n",
       "      <td>-1</td>\n",
       "      <td>1</td>\n",
       "      <td>-1</td>\n",
       "      <td>-1</td>\n",
       "      <td>1</td>\n",
       "    </tr>\n",
       "  </tbody>\n",
       "</table>\n",
       "<p>5 rows × 31 columns</p>\n",
       "</div>"
      ],
      "text/plain": [
       "   UsingIP  LongURL  ShortURL  Symbol@  Redirecting//  PrefixSuffix-  \\\n",
       "0        1        1         1        1              1             -1   \n",
       "1        1        0         1        1              1             -1   \n",
       "2        1        0         1        1              1             -1   \n",
       "3        1        0        -1        1              1             -1   \n",
       "4       -1        0        -1        1             -1             -1   \n",
       "\n",
       "   SubDomains  HTTPS  DomainRegLen  Favicon  ...  UsingPopupWindow  \\\n",
       "0           0      1            -1        1  ...                 1   \n",
       "1          -1     -1            -1        1  ...                 1   \n",
       "2          -1     -1             1        1  ...                 1   \n",
       "3           1      1            -1        1  ...                -1   \n",
       "4           1      1            -1        1  ...                 1   \n",
       "\n",
       "   IframeRedirection  AgeofDomain  DNSRecording  WebsiteTraffic  PageRank  \\\n",
       "0                  1           -1            -1               0        -1   \n",
       "1                  1            1            -1               1        -1   \n",
       "2                  1           -1            -1               1        -1   \n",
       "3                  1           -1            -1               0        -1   \n",
       "4                  1            1             1               1        -1   \n",
       "\n",
       "   GoogleIndex  LinksPointingToPage  StatsReport  class  \n",
       "0            1                    1            1     -1  \n",
       "1            1                    0           -1     -1  \n",
       "2            1                   -1            1     -1  \n",
       "3            1                    1            1      1  \n",
       "4            1                   -1           -1      1  \n",
       "\n",
       "[5 rows x 31 columns]"
      ]
     },
     "execution_count": 11,
     "metadata": {},
     "output_type": "execute_result"
    }
   ],
   "source": [
    "data.head()"
   ]
  },
  {
   "cell_type": "code",
   "execution_count": 12,
   "metadata": {},
   "outputs": [],
   "source": [
    "from sklearn.preprocessing import StandardScaler\n",
    "sc = StandardScaler()\n",
    "sc.fit(data)\n",
    "data = sc.transform(data)"
   ]
  },
  {
   "cell_type": "code",
   "execution_count": 13,
   "metadata": {},
   "outputs": [],
   "source": [
    "from sklearn.model_selection import train_test_split\n",
    "X_train,X_test,y_train,y_test = train_test_split(data,y,test_size=0.2)"
   ]
  },
  {
   "cell_type": "markdown",
   "metadata": {},
   "source": [
    "# LSD with Hyperparameter GirdCV"
   ]
  },
  {
   "cell_type": "code",
   "execution_count": 28,
   "metadata": {},
   "outputs": [],
   "source": [
    "from sklearn.model_selection import GridSearchCV\n",
    "from sklearn.svm import SVC\n",
    "from sklearn.tree import DecisionTreeClassifier\n",
    "from sklearn.ensemble import VotingClassifier\n",
    "from sklearn.linear_model import LogisticRegression"
   ]
  },
  {
   "cell_type": "code",
   "execution_count": 29,
   "metadata": {},
   "outputs": [],
   "source": [
    "eclf = VotingClassifier(estimators=[ \n",
    "    ('svm', SVC(probability=True)),\n",
    "    ('lr', LogisticRegression()),\n",
    "    ('dt', DecisionTreeClassifier()),\n",
    "    ], voting='soft')"
   ]
  },
  {
   "cell_type": "code",
   "execution_count": 30,
   "metadata": {},
   "outputs": [],
   "source": [
    "params = {'lr__C': [1.0, 100.0],\n",
    "      'svm__C': [2,3,4],}"
   ]
  },
  {
   "cell_type": "code",
   "execution_count": 31,
   "metadata": {},
   "outputs": [
    {
     "data": {
      "text/plain": [
       "GridSearchCV(cv=5,\n",
       "             estimator=VotingClassifier(estimators=[('svm',\n",
       "                                                     SVC(probability=True)),\n",
       "                                                    ('lr',\n",
       "                                                     LogisticRegression()),\n",
       "                                                    ('dt',\n",
       "                                                     DecisionTreeClassifier())],\n",
       "                                        voting='soft'),\n",
       "             param_grid={'lr__C': [1.0, 100.0], 'svm__C': [2, 3, 4]},\n",
       "             scoring='neg_log_loss')"
      ]
     },
     "execution_count": 31,
     "metadata": {},
     "output_type": "execute_result"
    }
   ],
   "source": [
    "grid = GridSearchCV(eclf,params,cv=5,scoring='neg_log_loss')\n",
    "grid.fit(X_train,y_train)"
   ]
  },
  {
   "cell_type": "code",
   "execution_count": 86,
   "metadata": {},
   "outputs": [],
   "source": [
    "#predicting the target value from the model for the samples\n",
    "y_train_hyd3 = grid.predict(X_train)\n",
    "y_test_hyd3 = grid.predict(X_test)"
   ]
  },
  {
   "cell_type": "code",
   "execution_count": 89,
   "metadata": {},
   "outputs": [
    {
     "name": "stdout",
     "output_type": "stream",
     "text": [
      "Hybrid LSD : Accuracy on training Data: 0.980\n",
      "Hybrid LSD : Accuracy on test Data: 0.980\n",
      "\n",
      "Hybrid LSD : f1_score on training Data: 0.982\n",
      "Hybrid LSD : f1_score on test Data: 0.982\n",
      "\n",
      "Hybrid LSD : Recall on training Data: 0.983\n",
      "Hybrid LSD : Recall on test Data: 0.983\n",
      "\n",
      "Hybrid LSD : precision on training Data: 0.980\n",
      "Hybrid LSD : precision on test Data: 0.980\n",
      "\n",
      "Hybrid LSD : specificity on training Data: 0.432\n",
      "Hybrid LSD : specificity on test Data: 0.432\n"
     ]
    }
   ],
   "source": [
    "#computing the accuracy, f1_score, Recall, precision of the model performance\n",
    "\n",
    "acc_train_hyd3 = metrics.accuracy_score(y_train,y_train_hyd3)\n",
    "acc_test_hyd3 = metrics.accuracy_score(y_test,y_test_hyd3)\n",
    "print(\"Hybrid LSD : Accuracy on training Data: {:.3f}\".format(acc_train_hyd3))\n",
    "print(\"Hybrid LSD : Accuracy on test Data: {:.3f}\".format(acc_test_hyd3))\n",
    "print()\n",
    "\n",
    "f1_score_train_hyd3 = metrics.f1_score(y_train,y_train_hyd3)\n",
    "f1_score_test_hyd3 = metrics.f1_score(y_test,y_test_hyd3)\n",
    "print(\"Hybrid LSD : f1_score on training Data: {:.3f}\".format(f1_score_train_hyd3))\n",
    "print(\"Hybrid LSD : f1_score on test Data: {:.3f}\".format(f1_score_test_hyd3))\n",
    "print()\n",
    "\n",
    "recall_score_train_hyd3 = metrics.recall_score(y_train,y_train_hyd3)\n",
    "recall_score_test_hyd3 =  metrics.recall_score(y_test,y_test_hyd3)\n",
    "print(\"Hybrid LSD : Recall on training Data: {:.3f}\".format(recall_score_train_hyd3))\n",
    "print(\"Hybrid LSD : Recall on test Data: {:.3f}\".format(recall_score_test_hyd3))\n",
    "print()\n",
    "\n",
    "precision_score_train_hyd3 = metrics.precision_score(y_train,y_train_hyd3)\n",
    "precision_score_test_hyd3 = metrics.precision_score(y_test,y_test_hyd3)\n",
    "print(\"Hybrid LSD : precision on training Data: {:.3f}\".format(precision_score_train_hyd3))\n",
    "print(\"Hybrid LSD : precision on test Data: {:.3f}\".format(precision_score_test_hyd3))\n",
    "print()\n",
    "\n",
    "specificity_score_train_hyd3 =  specificity_score(y_train,y_train_log)\n",
    "specificity_score_test_hyd3 = specificity_score(y_test,y_test_log)\n",
    "print(\"Hybrid LSD : specificity on training Data: {:.3f}\".format(specificity_score_train_hyd3))\n",
    "print(\"Hybrid LSD : specificity on test Data: {:.3f}\".format(specificity_score_test_hyd3))"
   ]
  },
  {
   "cell_type": "code",
   "execution_count": 90,
   "metadata": {},
   "outputs": [],
   "source": [
    "#storing the results. The below mentioned order of parameter passing is important.\n",
    "\n",
    "storeResults('Hybrid LSD',acc_test_hyd3,f1_score_test_hyd3,\n",
    "             recall_score_train_hyd3,precision_score_train_hyd3,specificity_score_test_hyd3)"
   ]
  },
  {
   "cell_type": "markdown",
   "metadata": {},
   "source": [
    "# Accuracy Comparison"
   ]
  },
  {
   "cell_type": "code",
   "execution_count": 91,
   "metadata": {},
   "outputs": [],
   "source": [
    "#creating dataframe\n",
    "result = pd.DataFrame({ 'ML Model' : ML_Model,\n",
    "                        'Accuracy' : accuracy,\n",
    "                        'f1_score' : f1_score,\n",
    "                        'Recall'   : recall,\n",
    "                        'Precision': precision,\n",
    "                        'Specificity': specificity\n",
    "                      })"
   ]
  },
  {
   "cell_type": "code",
   "execution_count": 92,
   "metadata": {},
   "outputs": [
    {
     "data": {
      "text/html": [
       "<div>\n",
       "<style scoped>\n",
       "    .dataframe tbody tr th:only-of-type {\n",
       "        vertical-align: middle;\n",
       "    }\n",
       "\n",
       "    .dataframe tbody tr th {\n",
       "        vertical-align: top;\n",
       "    }\n",
       "\n",
       "    .dataframe thead th {\n",
       "        text-align: right;\n",
       "    }\n",
       "</style>\n",
       "<table border=\"1\" class=\"dataframe\">\n",
       "  <thead>\n",
       "    <tr style=\"text-align: right;\">\n",
       "      <th></th>\n",
       "      <th>ML Model</th>\n",
       "      <th>Accuracy</th>\n",
       "      <th>f1_score</th>\n",
       "      <th>Recall</th>\n",
       "      <th>Precision</th>\n",
       "      <th>Specificity</th>\n",
       "    </tr>\n",
       "  </thead>\n",
       "  <tbody>\n",
       "    <tr>\n",
       "      <td>0</td>\n",
       "      <td>Linear Regression</td>\n",
       "      <td>0.934</td>\n",
       "      <td>0.941</td>\n",
       "      <td>0.943</td>\n",
       "      <td>0.927</td>\n",
       "      <td>0.909</td>\n",
       "    </tr>\n",
       "    <tr>\n",
       "      <td>1</td>\n",
       "      <td>Support Vector Machine</td>\n",
       "      <td>0.951</td>\n",
       "      <td>0.957</td>\n",
       "      <td>0.969</td>\n",
       "      <td>0.947</td>\n",
       "      <td>0.909</td>\n",
       "    </tr>\n",
       "    <tr>\n",
       "      <td>2</td>\n",
       "      <td>Naive Bayes Classifier</td>\n",
       "      <td>0.605</td>\n",
       "      <td>0.454</td>\n",
       "      <td>0.292</td>\n",
       "      <td>0.997</td>\n",
       "      <td>0.909</td>\n",
       "    </tr>\n",
       "    <tr>\n",
       "      <td>3</td>\n",
       "      <td>Decision Tree</td>\n",
       "      <td>0.958</td>\n",
       "      <td>0.962</td>\n",
       "      <td>0.991</td>\n",
       "      <td>0.993</td>\n",
       "      <td>0.909</td>\n",
       "    </tr>\n",
       "    <tr>\n",
       "      <td>4</td>\n",
       "      <td>Random Forest</td>\n",
       "      <td>0.966</td>\n",
       "      <td>0.970</td>\n",
       "      <td>0.995</td>\n",
       "      <td>0.988</td>\n",
       "      <td>0.909</td>\n",
       "    </tr>\n",
       "    <tr>\n",
       "      <td>5</td>\n",
       "      <td>Gradient Boosting Classifier</td>\n",
       "      <td>0.974</td>\n",
       "      <td>0.977</td>\n",
       "      <td>0.994</td>\n",
       "      <td>0.986</td>\n",
       "      <td>0.909</td>\n",
       "    </tr>\n",
       "    <tr>\n",
       "      <td>6</td>\n",
       "      <td>Hybrid LSD - SOFT</td>\n",
       "      <td>0.958</td>\n",
       "      <td>0.963</td>\n",
       "      <td>0.977</td>\n",
       "      <td>0.964</td>\n",
       "      <td>0.909</td>\n",
       "    </tr>\n",
       "    <tr>\n",
       "      <td>7</td>\n",
       "      <td>Hybrid LSD - HARD</td>\n",
       "      <td>0.949</td>\n",
       "      <td>0.955</td>\n",
       "      <td>0.967</td>\n",
       "      <td>0.945</td>\n",
       "      <td>0.909</td>\n",
       "    </tr>\n",
       "    <tr>\n",
       "      <td>8</td>\n",
       "      <td>Hybrid LSD</td>\n",
       "      <td>0.966</td>\n",
       "      <td>0.970</td>\n",
       "      <td>0.983</td>\n",
       "      <td>0.980</td>\n",
       "      <td>0.435</td>\n",
       "    </tr>\n",
       "    <tr>\n",
       "      <td>9</td>\n",
       "      <td>Hybrid LSD</td>\n",
       "      <td>0.980</td>\n",
       "      <td>0.982</td>\n",
       "      <td>0.983</td>\n",
       "      <td>0.980</td>\n",
       "      <td>0.432</td>\n",
       "    </tr>\n",
       "  </tbody>\n",
       "</table>\n",
       "</div>"
      ],
      "text/plain": [
       "                       ML Model  Accuracy  f1_score  Recall  Precision  \\\n",
       "0             Linear Regression     0.934     0.941   0.943      0.927   \n",
       "1        Support Vector Machine     0.951     0.957   0.969      0.947   \n",
       "2        Naive Bayes Classifier     0.605     0.454   0.292      0.997   \n",
       "3                 Decision Tree     0.958     0.962   0.991      0.993   \n",
       "4                 Random Forest     0.966     0.970   0.995      0.988   \n",
       "5  Gradient Boosting Classifier     0.974     0.977   0.994      0.986   \n",
       "6             Hybrid LSD - SOFT     0.958     0.963   0.977      0.964   \n",
       "7             Hybrid LSD - HARD     0.949     0.955   0.967      0.945   \n",
       "8                    Hybrid LSD     0.966     0.970   0.983      0.980   \n",
       "9                    Hybrid LSD     0.980     0.982   0.983      0.980   \n",
       "\n",
       "   Specificity  \n",
       "0        0.909  \n",
       "1        0.909  \n",
       "2        0.909  \n",
       "3        0.909  \n",
       "4        0.909  \n",
       "5        0.909  \n",
       "6        0.909  \n",
       "7        0.909  \n",
       "8        0.435  \n",
       "9        0.432  "
      ]
     },
     "execution_count": 92,
     "metadata": {},
     "output_type": "execute_result"
    }
   ],
   "source": [
    "# dispalying total result\n",
    "result"
   ]
  },
  {
   "cell_type": "markdown",
   "metadata": {},
   "source": [
    "# Graph"
   ]
  },
  {
   "cell_type": "code",
   "execution_count": 94,
   "metadata": {},
   "outputs": [],
   "source": [
    "classifier = ML_Model\n",
    "y_pos = np.arange(len(classifier))"
   ]
  },
  {
   "cell_type": "markdown",
   "metadata": {},
   "source": [
    "# Accuracy Comparison"
   ]
  },
  {
   "cell_type": "code",
   "execution_count": 96,
   "metadata": {},
   "outputs": [
    {
     "data": {
      "image/png": "[encoded data removed]",
      "text/plain": [
       "<Figure size 432x288 with 1 Axes>"
      ]
     },
     "metadata": {
      "needs_background": "light"
     },
     "output_type": "display_data"
    }
   ],
   "source": [
    "import matplotlib.pyplot as plt2\n",
    "plt2.barh(y_pos, accuracy, align='center', alpha=0.5,color='blue')\n",
    "plt2.yticks(y_pos, classifier)\n",
    "plt2.xlabel('Accuracy Score')\n",
    "plt2.title('Classification Performance')\n",
    "plt2.show()"
   ]
  },
  {
   "cell_type": "markdown",
   "metadata": {},
   "source": [
    "# Precision"
   ]
  },
  {
   "cell_type": "code",
   "execution_count": 97,
   "metadata": {},
   "outputs": [
    {
     "data": {
      "image/png": "[encoded data removed]",
      "text/plain": [
       "<Figure size 432x288 with 1 Axes>"
      ]
     },
     "metadata": {
      "needs_background": "light"
     },
     "output_type": "display_data"
    }
   ],
   "source": [
    "import matplotlib.pyplot as plt2\n",
    "plt2.barh(y_pos, precision, align='center', alpha=0.5,color='red')\n",
    "plt2.yticks(y_pos, classifier)\n",
    "plt2.xlabel('Precision Score')\n",
    "plt2.title('Classification Performance')\n",
    "plt2.show()"
   ]
  },
  {
   "cell_type": "markdown",
   "metadata": {},
   "source": [
    "# Recall Score"
   ]
  },
  {
   "cell_type": "code",
   "execution_count": 98,
   "metadata": {},
   "outputs": [
    {
     "data": {
      "image/png": "[encoded data removed]",
      "text/plain": [
       "<Figure size 432x288 with 1 Axes>"
      ]
     },
     "metadata": {
      "needs_background": "light"
     },
     "output_type": "display_data"
    }
   ],
   "source": [
    "import matplotlib.pyplot as plt2\n",
    "plt2.barh(y_pos, recall, align='center', alpha=0.5,color='yellow')\n",
    "plt2.yticks(y_pos, classifier)\n",
    "plt2.xlabel('Recall Score')\n",
    "plt2.title('Classification Performance')\n",
    "plt2.show()"
   ]
  },
  {
   "cell_type": "markdown",
   "metadata": {},
   "source": [
    "# F1 Score"
   ]
  },
  {
   "cell_type": "code",
   "execution_count": 100,
   "metadata": {},
   "outputs": [
    {
     "data": {
      "image/png": "[encoded data removed]",
      "text/plain": [
       "<Figure size 432x288 with 1 Axes>"
      ]
     },
     "metadata": {
      "needs_background": "light"
     },
     "output_type": "display_data"
    }
   ],
   "source": [
    "import matplotlib.pyplot as plt2\n",
    "plt2.barh(y_pos, f1_score, align='center', alpha=0.5,color='pink')\n",
    "plt2.yticks(y_pos, classifier)\n",
    "plt2.xlabel('F1 Score')\n",
    "plt2.title('Classification Performance')\n",
    "plt2.show()"
   ]
  },
  {
   "cell_type": "markdown",
   "metadata": {},
   "source": [
    "# Modelling"
   ]
  },
  {
   "cell_type": "code",
   "execution_count": 32,
   "metadata": {},
   "outputs": [],
   "source": [
    "import pickle\n",
    "\n",
    "# dump information to that file\n",
    "pickle.dump(grid, open('model_url.pkl', 'wb'))"
   ]
  },
  {
   "cell_type": "code",
   "execution_count": null,
   "metadata": {},
   "outputs": [],
   "source": []
  },
  {
   "cell_type": "code",
   "execution_count": null,
   "metadata": {},
   "outputs": [],
   "source": [
    "  "
   ]
  }
 ],
 "metadata": {
  "kernelspec": {
   "display_name": "Python 3",
   "language": "python",
   "name": "python3"
  },
  "language_info": {
   "codemirror_mode": {
    "name": "ipython",
    "version": 3
   },
   "file_extension": ".py",
   "mimetype": "text/x-python",
   "name": "python",
   "nbconvert_exporter": "python",
   "pygments_lexer": "ipython3",
   "version": "3.7.4"
  }
 },
 "nbformat": 4,
 "nbformat_minor": 2
}
